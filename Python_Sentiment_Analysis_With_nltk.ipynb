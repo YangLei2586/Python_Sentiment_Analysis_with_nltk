{
 "cells": [
  {
   "cell_type": "code",
   "execution_count": 30,
   "metadata": {},
   "outputs": [],
   "source": [
    "# Import Packages\n",
    "\n",
    "import nltk.classify.util\n",
    "from nltk.classify import NaiveBayesClassifier\n",
    "from nltk.corpus import names\n",
    " \n",
    "def word_character(words):\n",
    "    return dict([(word, True) for word in words])\n",
    " \n",
    "positive_word = [ 'awesome', 'interesting','fabulous','lovely','outstanding', 'fantastic', 'terrific', 'good', 'nice', 'great', ':)' ]\n",
    "negative_word = ['dislike', 'horrible','gross','bad','worse', 'terrible','useless', 'hate', 'meaningless','waste',':(' ]\n",
    "neutral_word = [ 'movie','think','game','program','project','the','sound','was','is','actors','did','know','words','not' ]\n",
    " \n",
    "positive_character = [(word_character(pos), 'pos') for pos in positive_word]\n",
    "negative_character = [(word_character(neg), 'neg') for neg in negative_word]\n",
    "neutral_character = [(word_character(neu), 'neu') for neu in neutral_word]\n",
    " \n",
    "train_set = negative_character + positive_character + neutral_character\n",
    " \n",
    "classifier = NaiveBayesClassifier.train(train_set) "
   ]
  },
  {
   "cell_type": "code",
   "execution_count": 38,
   "metadata": {},
   "outputs": [
    {
     "name": "stdout",
     "output_type": "stream",
     "text": [
      "Positive: 0.6\n",
      "Negative: 0.2\n"
     ]
    }
   ],
   "source": [
    "# Prediction\n",
    "\n",
    "neg = 0\n",
    "pos = 0\n",
    "sentence = \"awesome moive, I like it\"\n",
    "sentence = sentence.lower()\n",
    "words = sentence.split(' ')\n",
    "for word in words:\n",
    "    classResult = classifier.classify( word_character(word))\n",
    "    if classResult == 'neg':\n",
    "        neg = neg + 1\n",
    "    if classResult == 'pos':\n",
    "        pos = pos + 1\n",
    " \n",
    "print('Positive: ' + str(float(pos)/len(words)))\n",
    "print('Negative: ' + str(float(neg)/len(words)))"
   ]
  }
 ],
 "metadata": {
  "kernelspec": {
   "display_name": "Python 3",
   "language": "python",
   "name": "python3"
  },
  "language_info": {
   "codemirror_mode": {
    "name": "ipython",
    "version": 3
   },
   "file_extension": ".py",
   "mimetype": "text/x-python",
   "name": "python",
   "nbconvert_exporter": "python",
   "pygments_lexer": "ipython3",
   "version": "3.7.0"
  }
 },
 "nbformat": 4,
 "nbformat_minor": 2
}
